{
 "cells": [
  {
   "cell_type": "markdown",
   "metadata": {},
   "source": [
    "# Programming Exercises (LAB-03, Abeer Ali Khan, 19B-078-SE)"
   ]
  },
  {
   "cell_type": "markdown",
   "metadata": {},
   "source": [
    "# Question 1"
   ]
  },
  {
   "cell_type": "code",
   "execution_count": 3,
   "metadata": {},
   "outputs": [
    {
     "name": "stdout",
     "output_type": "stream",
     "text": [
      "\n",
      "1)When Angular Velocity is 10 rad/s and Distance from the center is 0.5m:\n",
      "\n",
      "The Linear Velocity will be 5.0 m/s.\n",
      "\n",
      "2)When Angular Velocity is 10 rad/s and Distance from the center is 1m:\n",
      "\n",
      "The Linear Velocity will be 10 m/s.\n",
      "\n",
      "3)When Angular Velocity is 10 rad/s and Distance from the center is 2m:\n",
      "\n",
      "The Linear Velocity will be 20 m/s.\n",
      "\n",
      "Do you wish to use your own values(y/n): y\n",
      "\n",
      "Enter Angular Velocity of the ball: 15\n",
      "\n",
      "Enter Distance from the centre in metre(radius): 15\n",
      "\n",
      "When Angular Velocity is 15.0 rad/s and Distance from the center is 15.0m:\n",
      "\n",
      "The Linear Velocity will be 225.0 m/s.\n",
      "**End of Program 1**\n"
     ]
    }
   ],
   "source": [
    "#Data\n",
    "r1 = 0.5 \n",
    "r2 = 1\n",
    "r3 = 2\n",
    "angular_velocity = 10\n",
    "\n",
    "def linear_velocity(radius, angular_velocity):\n",
    "    #Formula to calculate Linear Velocity\n",
    "    linear_velocity = radius*angular_velocity\n",
    "    return linear_velocity\n",
    "\n",
    "#Putting values in the linear velocity function.\n",
    "print(\"\\n1)When Angular Velocity is \"+str(angular_velocity)+\" rad/s and Distance from the center is \"+str(r1)+\"m:\")\n",
    "print(\"\\nThe Linear Velocity will be \"+str(linear_velocity(r1, angular_velocity))+\" m/s.\")\n",
    "\n",
    "print(\"\\n2)When Angular Velocity is \"+str(angular_velocity)+\" rad/s and Distance from the center is \"+str(r2)+\"m:\")\n",
    "print(\"\\nThe Linear Velocity will be \"+str(linear_velocity(r2, angular_velocity))+\" m/s.\")\n",
    "\n",
    "print(\"\\n3)When Angular Velocity is \"+str(angular_velocity)+\" rad/s and Distance from the center is \"+str(r3)+\"m:\")\n",
    "print(\"\\nThe Linear Velocity will be \"+str(linear_velocity(r3, angular_velocity))+\" m/s.\")\n",
    "\n",
    "#User also can input values if wishes.\n",
    "answer=(input(\"\\nDo you wish to use your own values(y/n): \")).lower()\n",
    "if answer=='y' or answer=='yes':\n",
    "    a_velocity=float(input(\"\\nEnter Angular Velocity of the ball: \"))\n",
    "    radius=float(input(\"\\nEnter Distance from the centre in metre(radius): \"))\n",
    "    print(\"\\nThe Linear Velocity will be \"+str(linear_velocity(radius, a_velocity))+\" m/s.\")\n",
    "    print(\"**End of Program 1**\")\n",
    "else:\n",
    "    print(\"**End of Program 1**\")"
   ]
  },
  {
   "cell_type": "markdown",
   "metadata": {},
   "source": [
    "# Question 2"
   ]
  },
  {
   "cell_type": "code",
   "execution_count": 2,
   "metadata": {},
   "outputs": [
    {
     "name": "stdout",
     "output_type": "stream",
     "text": [
      "\n",
      "1)When rotation of blender's blade is 5000 rpm and radius is 5 cm.\n",
      "\n",
      "The Linear Velocity will be 26.17 m/s.\n",
      "\n",
      "2)When rotation of blender's blade is 5000 rpm and radius is 10 cm.\n",
      "\n",
      "The Linear Velocity will be 52.33 m/s.\n",
      "\n",
      "Do you wish to use your own values(y/n): n\n",
      "**End of Program 2**\n"
     ]
    }
   ],
   "source": [
    "#Data\n",
    "blade_rotation = 5000 #RPM\n",
    "r1 = 5 #in cm\n",
    "r2 = 10 #in cm\n",
    "\n",
    "def angular_velocity(rpm):\n",
    "    #Changing RPM to Radians/Second\n",
    "    angular_velocity = (rpm/60)*6.28\n",
    "    return angular_velocity\n",
    "def cm_to_m(cm):\n",
    "    #Changing cm to meter\n",
    "    radius = cm/100 #in meter\n",
    "    return radius\n",
    "def linear_velocity(radius, angular_velocity):\n",
    "    #Formula to calculate Linear Velocity\n",
    "    linear_velocity = radius*angular_velocity\n",
    "    return (\"%.2f\"%linear_velocity)\n",
    "\n",
    "#Putting values in the linear velocity funciton\n",
    "print(\"\\n1)When rotation of blender's blade is \"+str(blade_rotation)+\" rpm and radius is \"+str(r1)+\" cm.\")\n",
    "print(\"\\nThe Linear Velocity will be \"+str(linear_velocity(cm_to_m(r1), angular_velocity(blade_rotation)))+\" m/s.\")\n",
    "\n",
    "print(\"\\n2)When rotation of blender's blade is \"+str(blade_rotation)+\" rpm and radius is \"+str(r2)+\" cm.\")\n",
    "print(\"\\nThe Linear Velocity will be \"+str(linear_velocity(cm_to_m(r2), angular_velocity(blade_rotation)))+\" m/s.\")\n",
    "\n",
    "#User also can input values if he wishes.\n",
    "answer=(input(\"\\nDo you wish to use your own values(y/n): \")).lower()\n",
    "\n",
    "if answer=='y' or answer=='yes':\n",
    "    rpm=float(input(\"\\nEnter RPM of Blender's blade: \"))\n",
    "    radius=float(input(\"\\nEnter radius (in cm): \"))\n",
    "    print(\"\\nThe Linear Velocity will be \"+str(linear_velocity(cm_to_m(radius), angular_velocity(rpm)))+\" m/s.\")\n",
    "    print(\"**End of Program 2**\")\n",
    "else:\n",
    "    print(\"**End of Program 2**\")"
   ]
  },
  {
   "cell_type": "markdown",
   "metadata": {},
   "source": [
    "# Question 3"
   ]
  },
  {
   "cell_type": "code",
   "execution_count": 8,
   "metadata": {},
   "outputs": [
    {
     "name": "stdout",
     "output_type": "stream",
     "text": [
      "The angular velocity of the point will be 33.33 rad/s, having radius 30cm and linear velocity 10ms.\n",
      "\n",
      "Do you wish to input your values(y/n): y\n",
      "Enter linear velocity of the point: 10\n",
      "Enter radius of the wheel (in cm): 30\n",
      "\n",
      "The angular velocity of the point will be 33.33 rad/s.\n",
      "**End of program 3**\n"
     ]
    }
   ],
   "source": [
    "#Data\n",
    "r = 30 #in cm\n",
    "linear_velocity = 10 #meters per second\n",
    "\n",
    "def cm_to_m(cm):\n",
    "    #Changing cm to meter\n",
    "    radius = cm/100 #in meter \n",
    "    return radius\n",
    "def angular_velocity(velocityL, r):\n",
    "    velocityA = velocityL/r #(v = rw or w = v/r)\n",
    "    return (\"%.2f\"%velocityA)\n",
    "\n",
    "print(\"The angular velocity of the point will be \"+str(angular_velocity(linear_velocity, cm_to_m(r)))+\" rad/s, having radius 30cm and linear velocity 10ms.\")\n",
    "\n",
    "answer = (input(\"\\nDo you wish to input your values(y/n): \")).lower()\n",
    "if answer==\"y\" or answer==\"yes\":\n",
    "    lvelocity = float(input(\"Enter linear velocity of the point: \"))\n",
    "    radius = float(input(\"Enter radius of the wheel (in cm): \"))\n",
    "    print(\"\\nThe angular velocity of the point will be \"+str(angular_velocity(lvelocity, cm_to_m(radius))+\" rad/s.\"))\n",
    "    print(\"**End of program 3**\")\n",
    "else:\n",
    "    print(\"**End of program 3**\")\n"
   ]
  },
  {
   "cell_type": "markdown",
   "metadata": {},
   "source": [
    "# Question 4"
   ]
  },
  {
   "cell_type": "code",
   "execution_count": 14,
   "metadata": {},
   "outputs": [
    {
     "name": "stdout",
     "output_type": "stream",
     "text": [
      "\n",
      "A car with tires 50cm in diameter travels 10 meters in 1 second,\n",
      "\n",
      "The Angular velocity of the car will be 2.5 rad/s\n",
      "\n",
      "Do you wish to input your values(y/n): y\n",
      "Enter diameter of tires (in cm): 60\n",
      "Enter the distance that car travels(in m): 20\n",
      "Enter the time that it took car to cover the distance(in s): 5\n",
      "\n",
      "The Angular velocity of the car will be 30.0 rad/s\n",
      "**End of program 4**\n"
     ]
    }
   ],
   "source": [
    "#DATA\n",
    "d = 50 #cm\n",
    "time = 1 #second\n",
    "distance = 10 #meters\n",
    "\n",
    "#Calculations\n",
    "def radius(d):\n",
    "    r = (d/2)/100\n",
    "    return r\n",
    "def linear_velocity(s, t):\n",
    "    v = t*s\n",
    "    return v\n",
    "def angular_velocity(r, velocityL):\n",
    "    velocityA = velocityL*r\n",
    "    return velocityA\n",
    "\n",
    "#Result\n",
    "print(\"\\nA car with tires 50cm in diameter travels 10 meters in 1 second,\")\n",
    "print(\"\\nThe Angular velocity of the car will be \"+str(angular_velocity(radius(d), linear_velocity(distance, time)))+\" rad/s\")\n",
    "\n",
    "answer = (input(\"\\nDo you wish to input your values(y/n): \")).lower()\n",
    "if answer==\"y\" or answer==\"yes\":\n",
    "    tire = float(input(\"Enter diameter of tires (in cm): \"))\n",
    "    s = float(input(\"Enter the distance that car travels(in m): \"))\n",
    "    time = float(input(\"Enter the time that it took car to cover the distance(in s): \"))\n",
    "    print(\"\\nThe Angular velocity of the car will be \"+str(angular_velocity(radius(tire), linear_velocity(s, time)))+\" rad/s\")\n",
    "    print(\"**End of program 4**\")\n",
    "else:\n",
    "    print(\"**End of program 4**\")"
   ]
  },
  {
   "cell_type": "markdown",
   "metadata": {},
   "source": [
    "# Question 5"
   ]
  },
  {
   "cell_type": "code",
   "execution_count": 48,
   "metadata": {},
   "outputs": [
    {
     "name": "stdout",
     "output_type": "stream",
     "text": [
      "The angular speed of wheel 20cm in radians is 120rpm. The car covers 12.56 meters in 10s.\n",
      "\n",
      "Do you wish to input your values(y/n): y\n",
      "\n",
      "Enter Angular Velocity of the car (in rpm): 300\n",
      "\n",
      "Enter diameter of the tire (in cm): 50\n",
      "\n",
      "Enter the time that it took car to cover the distance(in s): 20\n",
      "\n",
      "The distance covered by the car will be 157.00 meters\n",
      "**End of program 5**\n"
     ]
    }
   ],
   "source": [
    "#Data\n",
    "rpm = 120 #rpm\n",
    "d = 20 #cm\n",
    "time = 10\n",
    "\n",
    "#Calculations\n",
    "def angular_velocity(rpm):\n",
    "    #Changing RPM to Radians/Second\n",
    "    angular_velocity = (rpm/60)*6.28\n",
    "    return angular_velocity\n",
    "def radius(d):\n",
    "    r = (d/2)/100\n",
    "    return r\n",
    "def linear_velocity(radius, angular_velocity):\n",
    "    #Formula to calculate Linear Velocity\n",
    "    linear_velocity = radius*angular_velocity\n",
    "    return linear_velocity\n",
    "def distance(velocityL, t):\n",
    "    s = velocityL*t\n",
    "    return (\"%.2f\"%s)\n",
    "\n",
    "#Result\n",
    "velocityL = linear_velocity(radius(d), angular_velocity(rpm))\n",
    "print(\"The angular speed of wheel 20cm in radians is 120rpm. The car covers \"+str(distance(velocityL, time))+\" meters in 10s.\")\n",
    "\n",
    "answer = (input(\"\\nDo you wish to input your values(y/n): \")).lower()\n",
    "if answer==\"y\" or answer==\"yes\":\n",
    "    velocityA = float(input(\"\\nEnter Angular Velocity of the car (in rpm): \"))\n",
    "    tire = float(input(\"\\nEnter diameter of the tire (in cm): \"))\n",
    "    time = float(input(\"\\nEnter the time that it took car to cover the distance(in s): \"))\n",
    "    velocityL = linear_velocity(radius(tire), angular_velocity(velocityA))\n",
    "    print(\"\\nThe distance covered by the car will be \"+str(distance(velocityL, time))+\" meters\")\n",
    "    print(\"**End of program 5**\")\n",
    "else:\n",
    "    print(\"**End of program 5**\")"
   ]
  },
  {
   "cell_type": "markdown",
   "metadata": {},
   "source": [
    "# Question 6"
   ]
  },
  {
   "cell_type": "code",
   "execution_count": 55,
   "metadata": {},
   "outputs": [
    {
     "name": "stdout",
     "output_type": "stream",
     "text": [
      "Distance covered will be 140 miles\n"
     ]
    }
   ],
   "source": [
    "#DATA\n",
    "v = 50 #Miles/hour (initial velocity)\n",
    "a = 10 #Miles/hour^2 (acceleration)\n",
    "time = 2 #hours\n",
    "u = v+(a*time)\n",
    "s = u*time\n",
    "\n",
    "print(\"Distance covered will be \"+str(s)+\" miles\")\n"
   ]
  },
  {
   "cell_type": "markdown",
   "metadata": {},
   "source": [
    "# Question 7"
   ]
  },
  {
   "cell_type": "code",
   "execution_count": 58,
   "metadata": {},
   "outputs": [
    {
     "name": "stdout",
     "output_type": "stream",
     "text": [
      "The stone will hit the ground with velocity 80.0ft/s\n"
     ]
    }
   ],
   "source": [
    "from math import sqrt\n",
    "#Data\n",
    "\n",
    "h = 100\n",
    "g = -32\n",
    "u = sqrt(-(2*g*h))\n",
    "\n",
    "print(\"The stone will hit the ground with velocity \"+str(u)+ \"ft/s\")\n"
   ]
  },
  {
   "cell_type": "code",
   "execution_count": null,
   "metadata": {},
   "outputs": [],
   "source": []
  }
 ],
 "metadata": {
  "kernelspec": {
   "display_name": "Python 3",
   "language": "python",
   "name": "python3"
  },
  "language_info": {
   "codemirror_mode": {
    "name": "ipython",
    "version": 3
   },
   "file_extension": ".py",
   "mimetype": "text/x-python",
   "name": "python",
   "nbconvert_exporter": "python",
   "pygments_lexer": "ipython3",
   "version": "3.7.4"
  }
 },
 "nbformat": 4,
 "nbformat_minor": 2
}
