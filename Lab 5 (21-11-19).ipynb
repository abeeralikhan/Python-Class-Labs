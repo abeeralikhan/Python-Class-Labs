{
 "cells": [
  {
   "cell_type": "markdown",
   "metadata": {},
   "source": [
    "# Lab 5 (Abeer Ali Khan, 19b-078-se, Section: B)"
   ]
  },
  {
   "cell_type": "markdown",
   "metadata": {},
   "source": [
    "# Program # 1"
   ]
  },
  {
   "cell_type": "code",
   "execution_count": 6,
   "metadata": {},
   "outputs": [
    {
     "name": "stdout",
     "output_type": "stream",
     "text": [
      "This program will calculate area and volume of a cylinder.\n",
      "\n",
      "Enter radius of the Cylinder (in cm): 5\n",
      "\n",
      "Enter height of the Cylinder (in cm): 10\n",
      "\n",
      "i) Area of the Cylinder will be 471.24cm²\n",
      "\n",
      "ii) Volume of the cylinder will be 785.40cm³\n"
     ]
    }
   ],
   "source": [
    "from math import pi\n",
    "#Write two functions which will take required arguments for calculating the Area and Volume of cylinder.\n",
    "#For area\n",
    "def areaCylinder(r, h):\n",
    "    area = (2*pi*r*h)+(2*pi*r**2)\n",
    "    return \"%.2f\"%area\n",
    "#For volume\n",
    "def volumeCylinder(r, h):\n",
    "    volume = pi*r**2*h\n",
    "    return \"%.2f\"%volume\n",
    "#Result\n",
    "def main():\n",
    "    print(\"This program will calculate area and volume of a cylinder.\")\n",
    "    radius = eval(input(\"\\nEnter radius of the Cylinder (in cm): \"))\n",
    "    height = eval(input(\"\\nEnter height of the Cylinder (in cm): \"))\n",
    "    print(\"\\ni) Area of the Cylinder will be {}cm\\u00b2\".format(areaCylinder(radius, height)))\n",
    "    print(\"\\nii) Volume of the cylinder will be {}cm\\u00b3\".format(volumeCylinder(radius, height)))\n",
    "    \n",
    "main()"
   ]
  },
  {
   "cell_type": "markdown",
   "metadata": {},
   "source": [
    "# Program # 2"
   ]
  },
  {
   "cell_type": "code",
   "execution_count": 7,
   "metadata": {},
   "outputs": [
    {
     "name": "stdout",
     "output_type": "stream",
     "text": [
      "This program will calculate area of a rectangle.\n",
      "\n",
      "Enter breadth of the Rectangle (in cm): 5\n",
      "\n",
      "Enter height of the Rectangle (in cm): 10\n",
      "\n",
      "Area of the Rectangle will be 50.00cm²\n"
     ]
    }
   ],
   "source": [
    "from math import pi\n",
    "#Write a function which will take required arguments for calculating the Area of a rectangle.\n",
    "#For Area\n",
    "def areaRectangle(h, b):\n",
    "    area=h*b\n",
    "    return \"%.2f\"%area\n",
    "\n",
    "#Result\\\n",
    "def main():\n",
    "    print(\"This program will calculate area of a rectangle.\")\n",
    "    breadth = eval(input(\"\\nEnter breadth of the Rectangle (in cm): \"))\n",
    "    height = eval(input(\"\\nEnter height of the Rectangle (in cm): \"))\n",
    "    print(\"\\nArea of the Rectangle will be {}cm\\u00b2\".format(areaRectangle(height, breadth)))\n",
    "main()"
   ]
  },
  {
   "cell_type": "markdown",
   "metadata": {},
   "source": [
    "# Program # 3"
   ]
  },
  {
   "cell_type": "code",
   "execution_count": 5,
   "metadata": {},
   "outputs": [
    {
     "name": "stdout",
     "output_type": "stream",
     "text": [
      "Enter common difference: 5\n",
      "Enter first term: 1\n",
      "\n",
      "Do you want to continue?(y/n):y\n",
      "Enter the nth term: 5\n",
      "\n",
      "Arithmetic sequence of 5 terms will be 21\n",
      "\n",
      "Do you want to continue?(y/n):y\n",
      "Enter the nth term: 6\n",
      "\n",
      "Arithmetic sequence of 6 terms will be 26\n",
      "\n",
      "Do you want to continue?(y/n):y\n",
      "Enter the nth term: 7\n",
      "\n",
      "Arithmetic sequence of 7 terms will be 31\n",
      "\n",
      "Do you want to continue?(y/n):n\n",
      "\n",
      "Ending Program....\n"
     ]
    }
   ],
   "source": [
    "#Write a program to generate arithmetic mean to nth term.\n",
    "#Data\n",
    "def arithmetic_sequence(f1, d, n):\n",
    "    mean = f1+(n-1)*d\n",
    "    return mean\n",
    "\n",
    "def main():\n",
    "    d = eval(input(\"Enter common difference: \"))\n",
    "    first_term = eval(input(\"Enter first term: \"))\n",
    "    ans = 'y'\n",
    "    while(ans=='yes' or ans=='y'):\n",
    "        ans = str(input(\"\\nDo you want to continue?(y/n):\"))\n",
    "        if ans=='yes' or ans=='y':\n",
    "            n = int(input(\"Enter the nth term: \"))\n",
    "            print(\"\\nArithmetic sequence of {} terms will be {}\".format(n, arithmetic_sequence(first_term, d, n)))\n",
    "        else:\n",
    "            print(\"\\nEnding Program....\")\n",
    "            break\n",
    "main()\n",
    "    "
   ]
  },
  {
   "cell_type": "markdown",
   "metadata": {},
   "source": [
    "# Program # 4"
   ]
  },
  {
   "cell_type": "code",
   "execution_count": 10,
   "metadata": {},
   "outputs": [
    {
     "name": "stdout",
     "output_type": "stream",
     "text": [
      "\n",
      "Enter a string: CIVIC\n",
      "\n",
      "Entered word 'CIVIC' is palindrome.\n"
     ]
    }
   ],
   "source": [
    "#Write a function which will check either the string is Palindrome or not.\n",
    "def palindrome(l_word, o_word):\n",
    "    if l_word[::-1]==l_word:\n",
    "        print(\"\\nEntered word '{}' is palindrome.\".format(o_word))\n",
    "    else:\n",
    "        print(\"\\nSorry your word is not palindrome.\")\n",
    "def main():\n",
    "    original_word = str(input(\"\\nEnter a string: \"))\n",
    "    lowered_word = original_word.lower()\n",
    "    palindrome(lowered_word, original_word)\n",
    "    \n",
    "main()\n",
    "    "
   ]
  },
  {
   "cell_type": "markdown",
   "metadata": {},
   "source": [
    "# Program # 5"
   ]
  },
  {
   "cell_type": "code",
   "execution_count": 56,
   "metadata": {},
   "outputs": [
    {
     "name": "stdout",
     "output_type": "stream",
     "text": [
      "Enter your name: Abeer Ali Khan\n",
      "Enter your Father's name: Asif Ali Khan\n",
      "Enter your roll number: 19B-078-SE\n",
      "Enter marks secured in Maths: 90\n",
      "Enter marks secured in Physics: 80\n",
      "Enter marks secured in Chemistry: 86\n",
      "Enter marks secured in Computer: 78\n",
      "Enter marks secured in Geography: 67.5\n",
      "________________________________________________________________________________\n",
      "\n",
      "Name: Abeer Ali Khan\tFather's Name: Asif Ali Khan\t Roll Number: 19B-078-SE\n",
      "\n",
      "\t Marks Secured: 401.5\t Percentage: 80.30%\t Grade: A+\n",
      "________________________________________________________________________________\n",
      "\n",
      " SUBJECT \t\t\t  OBTAINED MARKS \t\t    TOTAL MARKS\n",
      "\n",
      "'Maths' \t\t\t\t90 \t\t\t\t100\n",
      "\n",
      "'Physics' \t\t\t\t80 \t\t\t\t100\n",
      "\n",
      "'Chemistry' \t\t\t\t86 \t\t\t\t100\n",
      "\n",
      "'Computer' \t\t\t\t78 \t\t\t\t100\n",
      "\n",
      "'Geography' \t\t\t\t67.5 \t\t\t\t100\n",
      "________________________________________________________________________________\n"
     ]
    }
   ],
   "source": [
    "#Result Generator \n",
    "#Calculating percentage (Suppose each subject is of total 100 marks)\n",
    "def percentage(secured, total):\n",
    "    p_age = secured/total*100\n",
    "    return p_age\n",
    "\n",
    "#For figuring grade\n",
    "def grade(percentage):\n",
    "    if percentage >= 90:\n",
    "        return 'A-one'\n",
    "    elif percentage<90 and percentage>=80:\n",
    "        return 'A+'\n",
    "    elif percentage<80 and percentage>=70:\n",
    "        return 'A'\n",
    "    elif percentage<70 and percentage>=60:         \n",
    "        return 'B'\n",
    "    elif percentage<60 and percentage>=50:\n",
    "        return 'C'\n",
    "    elif percentage<50 and percentage>=40:\n",
    "        return 'D'\n",
    "    else:\n",
    "        return 'Fail'\n",
    "\n",
    "#For Final Marksheet\n",
    "def marksheet(name, fname, rollnum, secured, subjects, result, individual, total):\n",
    "    percent = percentage(secured, total)\n",
    "    gradE= grade(percent)\n",
    "    print(\"________________________________________________________________________________\")\n",
    "    print(\"\\nName: {}\\tFather's Name: {}\\t Roll Number: {}\".format(name, fname, rollnum))\n",
    "    print(\"\\n\\t Marks Secured: {}\\t Percentage: {}%\\t Grade: {}\".format(secured, \"%.2f\"%percent, gradE))\n",
    "    print(\"________________________________________________________________________________\")\n",
    "    print(\"\\n SUBJECT \\t\\t\\t  OBTAINED MARKS \\t\\t    TOTAL MARKS\")\n",
    "    for i in range(len(subjects)):\n",
    "        print(\"\\n'{}' \\t\\t\\t\\t{} \\t\\t\\t\\t{}\".format(subjects[i], result[i], individual), end=\"\")\n",
    "        print(\"\")\n",
    "    print(\"________________________________________________________________________________\")\n",
    "        \n",
    "def main():\n",
    "    subjects = ['Maths', 'Physics', 'Chemistry', 'Computer', 'Geography']\n",
    "    secured = 0\n",
    "    total = 500\n",
    "    result = []\n",
    "    individual = 100\n",
    "    name = str(input(\"Enter your name: \"))\n",
    "    fname = str(input(\"Enter your Father's name: \"))\n",
    "    rollnum = str(input(\"Enter your roll number: \"))\n",
    "    for i in range(len(subjects)):\n",
    "        marks= eval(input(\"Enter marks secured in \"+subjects[i]+\": \"))\n",
    "        result.append(marks)\n",
    "    #For calculating total marks\n",
    "    for i in range(len(subjects)):\n",
    "        secured+=result[i]\n",
    "    marksheet(name, fname, rollnum, secured, subjects, result, individual, total)\n",
    "main()"
   ]
  },
  {
   "cell_type": "markdown",
   "metadata": {},
   "source": [
    "# Program 6"
   ]
  },
  {
   "cell_type": "code",
   "execution_count": 6,
   "metadata": {},
   "outputs": [
    {
     "name": "stdout",
     "output_type": "stream",
     "text": [
      "This Program will calculate values of projectile motion\n",
      "\n",
      "Enter Height from ground of object (in m): 1\n",
      "Enter initial velocity of the object: 15\n",
      "Enter Launching angle of the object (in degree): 20\n",
      "\n",
      "MAX HEIGHT ABOVE THE GROUND:\n",
      "\n",
      "---> Maximum height reached by the ball (from ground) is 2.343 meters.\n",
      "\n",
      "TOTAL TIME IN THE AIR:\n",
      "\n",
      "---> The ball remains in the air for 1.215 seconds.\n",
      "\n",
      "TOTAL DISTANCE TRAVELED (Range):\n",
      "\n",
      "---> The total distance travelled by the ball will be 17.126 meters\n",
      "\n",
      "VELOCITY VECTOR AT MAX HEIGHT:\n",
      "\n",
      "---> Vertical Velocity will be zero at Max Height i.e Vy = 0 m/s\n",
      "\n",
      "---> Horizontall Velocity at Max Height will be Vx = 14.095 m/s (which is constant throught the projectile)\n",
      "\n",
      "VELOCITY WHEN THE BALL HITS THE GROUND:\n",
      "\n",
      "---> Initial and Final Horizontal Velocity component throughout the projectile remains constant i.e = 14.095 m/s\n",
      "\n",
      "---> Final Vertical Velocity when ball hits the ground will be Vfy = 17.037 m/s\n"
     ]
    }
   ],
   "source": [
    "print(\"This Program will calculate values of projectile motion\\n\")\n",
    "from math import sin, cos, pi, radians, sqrt\n",
    "def quadratic_formula(a, b, c):\n",
    "    values=[]\n",
    "    first_value = (-b+sqrt(b**2-4*a*c))/(2*a)\n",
    "    second_value = (-b-sqrt(b**2-4*a*c))/(2*a)\n",
    "    values.append(first_value)\n",
    "    values.append(second_value)\n",
    "    return values\n",
    "#--------------------------------------------------                         #DONE\n",
    "#MAX HEIGHT ABOVE THE GROUND\n",
    "def max_height(v_knot, angle, g, y_knot):\n",
    "    #Time to reach maximum height\n",
    "    ## Formula: Vy = V_knot*Sin+g*Ymax_time --> Ymax_time = (-V_knot*Sin)/g (Vy is zero at maximum height)\n",
    "    ymax_time = -(v_knot*sin(angle))/g\n",
    "    #Max Height\n",
    "    ##Formula: Y_max = (1/2)*g*t**2 + V_knot*Sin*Ymax_time - Yknot\n",
    "    return (0.5*g*ymax_time**2) + v_knot*sin(angle)*ymax_time - y_knot\n",
    "#--------------------------------------------------                      \n",
    "#TOTAL TIME IN THE AIR\n",
    "def timeOfFlight(g, vy, y_knot):\n",
    "    ##Formula: Y_knot = Vy*t + 0.5*g*t*2 ---> 0 = 0.5*g*t**2 + Vy*t - Y_knot    \n",
    "    total_time_unstable = quadratic_formula(0.5*g, vy, -y_knot)\n",
    "    #Neglecting negative value of time\n",
    "    return total_time_unstable[1]\n",
    "#--------------------------------------------------                     \n",
    "#TOTAL DISTANCE TRAVELED (Range==X)\n",
    "def rangex(vx, total_time):\n",
    "    #Formula: x = Vx*Total_time\n",
    "    return vx*total_time\n",
    "#--------------------------------------------------                                         \n",
    "#VELOCITY WHEN THE BALL HITS THE GROUND\n",
    "def velocityAtImpact(vy, g, total_time):\n",
    "    return vy - g*total_time\n",
    "\n",
    "#For Final Results\n",
    "def main():\n",
    "    y_knot = eval(input(\"Enter Height from ground of object (in m): \")) #meter\n",
    "    y_knot = -y_knot\n",
    "    v_knot = eval(input(\"Enter initial velocity of the object: \")) #m/s\n",
    "    angle_deg = eval(input(\"Enter Launching angle of the object (in degree): \"))\n",
    "    angle = radians(angle_deg) #Degrees--->Radians\n",
    "    g = -9.8 #m/s^2 (Acceleration due to gravity)\n",
    "    vx = v_knot*cos(angle) #Initial horizontal velocity==Final horizontal velocity\n",
    "    vy = v_knot*sin(angle) #Initial verical velocity\n",
    "    total_time = timeOfFlight(g, vy, y_knot)\n",
    "    print(\"\\nMAX HEIGHT ABOVE THE GROUND:\")\n",
    "    print(\"\\n---> Maximum height reached by the ball (from ground) is {} meters.\".format(\"%.3f\"%max_height(v_knot, angle, g, y_knot)))\n",
    "    print(\"\\nTOTAL TIME IN THE AIR:\")\n",
    "    print(\"\\n---> The ball remains in the air for {} seconds.\".format(\"%.3f\"%total_time))\n",
    "    print(\"\\nTOTAL DISTANCE TRAVELED (Range):\")\n",
    "    print(\"\\n---> The total distance travelled by the ball will be {} meters\".format(\"%.3f\"%rangex(vx, total_time)))\n",
    "    print(\"\\nVELOCITY VECTOR AT MAX HEIGHT:\")\n",
    "    print(\"\\n---> Vertical Velocity will be zero at Max Height i.e Vy = 0 m/s\")\n",
    "    print(\"\\n---> Horizontall Velocity at Max Height will be Vx = {} m/s (which is constant throught the projectile)\".format(\"%.3f\"%vx))\n",
    "    print(\"\\nVELOCITY WHEN THE BALL HITS THE GROUND:\")\n",
    "    print(\"\\n---> Initial and Final Horizontal Velocity component throughout the projectile remains constant i.e = \"+str(\"%.3f\"%vx)+\" m/s\")\n",
    "    print(\"\\n---> Final Vertical Velocity when ball hits the ground will be Vfy = {} m/s\".format(\"%.3f\"%velocityAtImpact(vy, g, total_time)))\n",
    "main()"
   ]
  },
  {
   "cell_type": "markdown",
   "metadata": {},
   "source": [
    "# Program 7"
   ]
  },
  {
   "cell_type": "code",
   "execution_count": 11,
   "metadata": {},
   "outputs": [
    {
     "name": "stdout",
     "output_type": "stream",
     "text": [
      "This program will print your name in reverse order. \n",
      "\n",
      "Enter your name: Abeer Ali Khan\n",
      "\n",
      "Reversed name is \"Nahk Ila Reeba\"\n"
     ]
    }
   ],
   "source": [
    "print('This program will print your name in reverse order. \\n')\n",
    "\n",
    "def name_reverser(a):\n",
    "    return (a[::-1]).title()\n",
    "\n",
    "def main():\n",
    "    name = (str(input('Enter your name: '))).lower()\n",
    "    print('\\nReversed name is \"{}\"'.format(name_reverser(name)))\n",
    "main()"
   ]
  },
  {
   "cell_type": "markdown",
   "metadata": {},
   "source": [
    "# Program 8"
   ]
  },
  {
   "cell_type": "code",
   "execution_count": 35,
   "metadata": {},
   "outputs": [
    {
     "name": "stdout",
     "output_type": "stream",
     "text": [
      "This program will encrypt unencrypt your message. \n",
      "\n",
      "Enter a message to encrypt it: I am LEAVING this country\n",
      "\n",
      "After Encryption: R zn OVZERMT gsrh xlfmgib\n"
     ]
    }
   ],
   "source": [
    "print(\"This program will encrypt unencrypt your message. \\n\")\n",
    "def encryption(message):\n",
    "    i = -1\n",
    "    j = -1\n",
    "    enMessage = []\n",
    "    upperMatter = {}\n",
    "    lowerMatter = {}\n",
    "    upperAlpha = ['A', 'B', 'C', 'D', 'E', 'F', 'G', 'H', 'I', 'J', 'K', 'L', 'M', 'N', 'O', 'P' ,'Q', 'R', 'S', 'T', 'U', 'V', 'W', 'X' ,'Y', 'Z']\n",
    "    lowerAlpha = ['a', 'b', 'c', 'd', 'e', 'f', 'g', 'h', 'i', 'j', 'k', 'l', 'm', 'n', 'o', 'p' ,'q', 'r', 's', 't', 'u', 'v', 'w', 'x' ,'y', 'z']\n",
    "    for upper in upperAlpha:\n",
    "        upperMatter[upper] = upperAlpha[i]\n",
    "        i-=1\n",
    "    for lower in lowerAlpha:\n",
    "        lowerMatter[lower] = lowerAlpha[j]\n",
    "        j-=1\n",
    "    for chr in message:\n",
    "        if chr == ' ':\n",
    "            enMessage.append(' ')\n",
    "        elif chr in upperAlpha:\n",
    "            enMessage.append(upperMatter[chr])\n",
    "        elif chr in lowerAlpha:\n",
    "            enMessage.append(lowerMatter[chr])\n",
    "    return ''.join(enMessage)\n",
    "def main():\n",
    "    message = str(input('Enter a message to encrypt it: '))\n",
    "    print('\\nAfter Encryption: {}'.format(encryption(message)))\n",
    "main()"
   ]
  },
  {
   "cell_type": "markdown",
   "metadata": {},
   "source": [
    "# Program 9"
   ]
  },
  {
   "cell_type": "code",
   "execution_count": 45,
   "metadata": {},
   "outputs": [
    {
     "name": "stdout",
     "output_type": "stream",
     "text": [
      "This program will generate a table of sin, cos and tan according to user's desire range.\n",
      "\n",
      "Enter initial value in degrees: 25\n",
      "\n",
      "Enter final value in degrees: 30\n",
      "\n",
      "Table of Sins: \n",
      "Sin(25) = 0.4226\n",
      "Sin(26) = 0.4384\n",
      "Sin(27) = 0.4540\n",
      "Sin(28) = 0.4695\n",
      "Sin(29) = 0.4848\n",
      "Sin(30) = 0.5000\n",
      "\n",
      "Table of Cos: \n",
      "Cos(25) = 0.9063\n",
      "Cos(26) = 0.8988\n",
      "Cos(27) = 0.8910\n",
      "Cos(28) = 0.8829\n",
      "Cos(29) = 0.8746\n",
      "Cos(30) = 0.8660\n",
      "\n",
      "Table of Tans: \n",
      "Tan(25) = 0.4663\n",
      "Tan(26) = 0.4877\n",
      "Tan(27) = 0.5095\n",
      "Tan(28) = 0.5317\n",
      "Tan(29) = 0.5543\n",
      "Tan(30) = 0.5774\n"
     ]
    }
   ],
   "source": [
    "from math import sin, cos, tan, radians\n",
    "print('This program will generate a table of sin, cos and tan according to user\\'s desire range.')\n",
    "\n",
    "def table(initial, final):\n",
    "    print('\\nTable of Sins: ')\n",
    "    for i in range(initial , final+1):\n",
    "        print('Sin({}) = {:.4f}'.format(i, sin(radians(i))))\n",
    "    print('\\nTable of Cos: ')\n",
    "    for i in range(initial , final+1):\n",
    "        print('Cos({}) = {:.4f}'.format(i, cos(radians(i))))\n",
    "    print('\\nTable of Tans: ')\n",
    "    for i in range(initial , final+1):\n",
    "        print('Tan({}) = {:.4f}'.format(i, tan(radians(i))))\n",
    "def main():\n",
    "    i = eval(input('\\nEnter initial value in degrees: '))\n",
    "    f = eval(input('\\nEnter final value in degrees: '))\n",
    "    table(i ,f)\n",
    "main()"
   ]
  },
  {
   "cell_type": "markdown",
   "metadata": {},
   "source": [
    "# Program 10"
   ]
  },
  {
   "cell_type": "code",
   "execution_count": 3,
   "metadata": {},
   "outputs": [
    {
     "name": "stdout",
     "output_type": "stream",
     "text": [
      "Enter diameter of the semi-circle (in cm): 14\n",
      "\n",
      "Area of perimeter including semi-circle: 15.565m\n",
      "\n",
      "Area of perimeter excluding semi-circle: 10.353m\n",
      "\n",
      "Area of semicircle including the two semi-circle: 0.012m²\n",
      "\n",
      "Area of semicircle excluding the two semi-circles: 0.008m²\n"
     ]
    }
   ],
   "source": [
    "from math import pi\n",
    "def meters(cm):\n",
    "    return cm/100\n",
    "\n",
    "def radius(diameter):\n",
    "    return diameter/2\n",
    "\n",
    "def perimeter_in(r, r12):\n",
    "    return (r+(2+pi))+(r12+(2+pi))*2\n",
    "\n",
    "def perimeter_ex(r12):\n",
    "    return (r12+(2+pi))*2\n",
    "\n",
    "def area_with(r, r12):\n",
    "    return (0.5*pi*r**2)+(0.5*pi*r12**2)*2\n",
    "\n",
    "def area_without(r):\n",
    "    return (0.5*pi*r**2)\n",
    "\n",
    "def main():\n",
    "    dInCm = eval(input('Enter diameter of the semi-circle (in cm): '))\n",
    "    d = meters(dInCm)\n",
    "    r = radius(d)\n",
    "    r12 = r/2\n",
    "    print(\"\\nArea of perimeter including semi-circle: {:.3f}m\".format(perimeter_in(r, r12)))\n",
    "    print(\"\\nArea of perimeter excluding semi-circle: {:.3f}m\".format(perimeter_ex(r12)))\n",
    "    print(\"\\nArea of semicircle including the two semi-circle: {:.3f}m\\u00b2\".format(area_with(r, r12)))\n",
    "    print(\"\\nArea of semicircle excluding the two semi-circles: {:.3f}m\\u00b2\".format(area_without(r)))\n",
    "main()"
   ]
  }
 ],
 "metadata": {
  "kernelspec": {
   "display_name": "Python 3",
   "language": "python",
   "name": "python3"
  },
  "language_info": {
   "codemirror_mode": {
    "name": "ipython",
    "version": 3
   },
   "file_extension": ".py",
   "mimetype": "text/x-python",
   "name": "python",
   "nbconvert_exporter": "python",
   "pygments_lexer": "ipython3",
   "version": "3.7.4"
  }
 },
 "nbformat": 4,
 "nbformat_minor": 2
}
